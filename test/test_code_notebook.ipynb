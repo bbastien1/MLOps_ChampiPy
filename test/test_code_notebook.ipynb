{
 "cells": [
  {
   "cell_type": "code",
   "execution_count": 1,
   "metadata": {},
   "outputs": [],
   "source": [
    "from tensorflow import keras\n",
    "from PIL import Image\n",
    "import pandas as pd\n",
    "import numpy as np\n",
    "#import cv2\n",
    "\n",
    "import tensorflow as tf\n",
    "from tensorflow import keras\n",
    "from tensorflow.keras.models import Model, load_model\n",
    "from tensorflow.keras.preprocessing import image"
   ]
  },
  {
   "cell_type": "code",
   "execution_count": 22,
   "metadata": {},
   "outputs": [],
   "source": [
    "import os\n",
    "os.chdir(\"D:\\Documents\\Datascientest\\MLOps\\projet\\MLOps_ChampiPy\\\\\")"
   ]
  },
  {
   "cell_type": "code",
   "execution_count": 23,
   "metadata": {},
   "outputs": [],
   "source": [
    "def load_index_to_label(path: str = ''):\n",
    "        index_to_class_label = pd.read_csv('.\\\\ressources\\\\final_500_targets.csv', sep = ';')\n",
    "        return index_to_class_label\n",
    "\n",
    "def load_model(path: str = '.\\model\\\\'):\n",
    "    model = keras.models.load_model(path)\n",
    "    return model\n",
    "\n",
    "def predict(img):   \n",
    "    prediction = model.predict(img)\n",
    "    return prediction"
   ]
  },
  {
   "cell_type": "code",
   "execution_count": 27,
   "metadata": {},
   "outputs": [],
   "source": [
    "upload_file = \"..\\images\\\\167.jpg\""
   ]
  },
  {
   "cell_type": "code",
   "execution_count": 83,
   "metadata": {},
   "outputs": [
    {
     "name": "stdout",
     "output_type": "stream",
     "text": [
      "1/1 [==============================] - 0s 226ms/step\n",
      "Top 3 des espèces les plus probables\n",
      "                     name      proba\n",
      "3       Agrocybe pediades  21.443972\n",
      "108  Suillus caerulescens  16.995760\n",
      "8     Amanita brunnescens  11.930089\n",
      "Lien wikipédia vers l'espèce la plus probable https://fr.wikipedia.org/wiki/agrocybe_pediades\n"
     ]
    }
   ],
   "source": [
    "img = Image.open(upload_file)\n",
    "img = img.resize(size = (160,160), resample = Image.NEAREST)\n",
    "img_array = image.img_to_array(img)\n",
    "x = np.expand_dims(img_array, axis = 0)\n",
    "\n",
    "model = load_model()\n",
    "preds = model.predict(x)\n",
    "preds_sorted_proba = np.sort(preds)\n",
    "preds_sorted = np.argsort(preds, axis = -1)\n",
    "\n",
    "# create a list containing the class labels\n",
    "class_labels = load_index_to_label()\n",
    "\n",
    "# find the top 3 classes\n",
    "df_top3 = pd.DataFrame({\"name\": class_labels.iloc[preds_sorted[0,-3:],1],\n",
    "                         \"proba\": preds_sorted_proba[0, -3:]*100})\n",
    "df_top3 = df_top3.sort_values('proba', axis=0, ascending=False)\n",
    "\n",
    "print(\"Top 3 des espèces les plus probables :\")\n",
    "print(df_top3)\n",
    "\n",
    "# Lien wikipédia\n",
    "p = str(class_labels.iloc[preds_sorted[0,-1],1])\n",
    "link = 'https://fr.wikipedia.org/wiki/' + str(p.lower().replace(' ', '_'))\n",
    "print(\"Lien wikipédia vers l'espèce la plus probable\", link)\n"
   ]
  },
  {
   "cell_type": "code",
   "execution_count": 80,
   "metadata": {},
   "outputs": [],
   "source": [
    "df_top3 = pd.DataFrame({\"name\": class_labels.iloc[preds_sorted[0,-3:],1],\n",
    "                         \"proba\": preds_sorted_proba[0, -3:]*100})\n",
    "df_top3 = df_top3.sort_values('proba', axis=0, ascending=False)"
   ]
  },
  {
   "cell_type": "code",
   "execution_count": 81,
   "metadata": {},
   "outputs": [
    {
     "data": {
      "text/html": [
       "<div>\n",
       "<style scoped>\n",
       "    .dataframe tbody tr th:only-of-type {\n",
       "        vertical-align: middle;\n",
       "    }\n",
       "\n",
       "    .dataframe tbody tr th {\n",
       "        vertical-align: top;\n",
       "    }\n",
       "\n",
       "    .dataframe thead th {\n",
       "        text-align: right;\n",
       "    }\n",
       "</style>\n",
       "<table border=\"1\" class=\"dataframe\">\n",
       "  <thead>\n",
       "    <tr style=\"text-align: right;\">\n",
       "      <th></th>\n",
       "      <th>name</th>\n",
       "      <th>proba</th>\n",
       "    </tr>\n",
       "  </thead>\n",
       "  <tbody>\n",
       "    <tr>\n",
       "      <th>3</th>\n",
       "      <td>Agrocybe pediades</td>\n",
       "      <td>21.443972</td>\n",
       "    </tr>\n",
       "    <tr>\n",
       "      <th>108</th>\n",
       "      <td>Suillus caerulescens</td>\n",
       "      <td>16.995760</td>\n",
       "    </tr>\n",
       "    <tr>\n",
       "      <th>8</th>\n",
       "      <td>Amanita brunnescens</td>\n",
       "      <td>11.930089</td>\n",
       "    </tr>\n",
       "  </tbody>\n",
       "</table>\n",
       "</div>"
      ],
      "text/plain": [
       "                     name      proba\n",
       "3       Agrocybe pediades  21.443972\n",
       "108  Suillus caerulescens  16.995760\n",
       "8     Amanita brunnescens  11.930089"
      ]
     },
     "execution_count": 81,
     "metadata": {},
     "output_type": "execute_result"
    }
   ],
   "source": [
    "df_top3"
   ]
  },
  {
   "cell_type": "code",
   "execution_count": null,
   "metadata": {},
   "outputs": [],
   "source": []
  }
 ],
 "metadata": {
  "kernelspec": {
   "display_name": ".venv",
   "language": "python",
   "name": "python3"
  },
  "language_info": {
   "codemirror_mode": {
    "name": "ipython",
    "version": 3
   },
   "file_extension": ".py",
   "mimetype": "text/x-python",
   "name": "python",
   "nbconvert_exporter": "python",
   "pygments_lexer": "ipython3",
   "version": "3.10.10"
  },
  "orig_nbformat": 4
 },
 "nbformat": 4,
 "nbformat_minor": 2
}
